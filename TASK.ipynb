{
 "cells": [
  {
   "cell_type": "markdown",
   "id": "81b0f99a-0659-4b4a-92e4-2d5d4e0389b7",
   "metadata": {},
   "source": [
    "1.Add two images using image blending\n",
    "\n",
    "2.Use bit wise and or, xor\n",
    "\n",
    "3.Rotate output image 180"
   ]
  },
  {
   "cell_type": "code",
   "execution_count": 1,
   "id": "8b0a5d97",
   "metadata": {},
   "outputs": [],
   "source": [
    "import cv2"
   ]
  },
  {
   "cell_type": "code",
   "execution_count": 2,
   "id": "ecf03578",
   "metadata": {},
   "outputs": [],
   "source": [
    "import numpy as np"
   ]
  },
  {
   "cell_type": "code",
   "execution_count": 18,
   "id": "dbadaa73",
   "metadata": {},
   "outputs": [],
   "source": [
    "img1 = cv2.imread(\"C:\\\\Users\\\\Priyadharshni\\\\Documents\\\\SEMESTER V\\\\n1.jpg\")\n",
    "img2 = cv2.imread(\"C:\\\\Users\\\\Priyadharshni\\\\Documents\\\\SEMESTER V\\\\n2.jpg\")\n",
    "\n",
    "cv2.imshow('Image1',img1)\n",
    "cv2.imshow('Image2',img2)\n",
    "cv2.waitKey(0)\n",
    "cv2.destroyAllWindows()"
   ]
  },
  {
   "cell_type": "code",
   "execution_count": 52,
   "id": "288da301",
   "metadata": {},
   "outputs": [
    {
     "data": {
      "text/plain": [
       "(500, 100, 3)"
      ]
     },
     "execution_count": 52,
     "metadata": {},
     "output_type": "execute_result"
    }
   ],
   "source": [
    "img1.shape"
   ]
  },
  {
   "cell_type": "code",
   "execution_count": 59,
   "id": "1a2191aa",
   "metadata": {},
   "outputs": [
    {
     "data": {
      "text/plain": [
       "(500, 550, 3)"
      ]
     },
     "execution_count": 59,
     "metadata": {},
     "output_type": "execute_result"
    }
   ],
   "source": [
    "img2.shape"
   ]
  },
  {
   "cell_type": "code",
   "execution_count": 58,
   "id": "b7161403-87b1-494d-9541-05a36739e384",
   "metadata": {},
   "outputs": [],
   "source": [
    "img1 = cv2.resize(img1,(550,500))\n",
    "img2 = cv2.resize(img2,(550,500))"
   ]
  },
  {
   "cell_type": "code",
   "execution_count": 60,
   "id": "3d54e548",
   "metadata": {},
   "outputs": [],
   "source": [
    "added_image = cv2.add(img1,img2)\n",
    "cv2.imshow('added_image',added_image)\n",
    "cv2.waitKey(0)\n",
    "cv2.destroyAllWindows()\n"
   ]
  },
  {
   "cell_type": "code",
   "execution_count": 61,
   "id": "bad0f55d",
   "metadata": {},
   "outputs": [],
   "source": [
    "imAdd = cv2.addWeighted(img1,0.5,img2,0.5,0)\n",
    "cv2.imshow(\"imAdd\",imAdd)\n",
    "cv2.waitKey(0)\n",
    "cv2.destroyAllWindows()\n"
   ]
  },
  {
   "cell_type": "code",
   "execution_count": 62,
   "id": "cfac5884",
   "metadata": {},
   "outputs": [],
   "source": [
    "bitwise_or = cv2.bitwise_or(img1,img2,mask = None)"
   ]
  },
  {
   "cell_type": "code",
   "execution_count": 63,
   "id": "7d9842c8",
   "metadata": {},
   "outputs": [],
   "source": [
    "bitwise_and = cv2.bitwise_and(img1,img2,mask = None)"
   ]
  },
  {
   "cell_type": "code",
   "execution_count": 64,
   "id": "1e23b45f",
   "metadata": {},
   "outputs": [],
   "source": [
    "bitwise_xor = cv2.bitwise_xor(img1,img2,mask = None)"
   ]
  },
  {
   "cell_type": "code",
   "execution_count": 65,
   "id": "5a90ce82",
   "metadata": {},
   "outputs": [],
   "source": [
    "cv2.imshow(\"img1\",img1)\n",
    "cv2.imshow(\"image2\",img2)\n",
    "cv2.imshow(\"bitwise_or\",bitwise_or)\n",
    "cv2.imshow(\"bitwise_and\",bitwise_and)\n",
    "cv2.imshow(\"bitwise_xor\",bitwise_xor)\n",
    "cv2.waitKey(0)\n",
    "cv2.destroyAllWindows()\n"
   ]
  },
  {
   "cell_type": "code",
   "execution_count": 66,
   "id": "c56d7492",
   "metadata": {},
   "outputs": [
    {
     "name": "stdout",
     "output_type": "stream",
     "text": [
      "(1200, 1920, 3)\n",
      "(1200, 1920, 3)\n",
      "1200\n",
      "1920\n"
     ]
    }
   ],
   "source": [
    "img1 = cv2.imread(\"C:\\\\Users\\\\Priyadharshni\\\\Documents\\\\SEMESTER V\\\\n1.jpg\")\n",
    "img2 = cv2.imread(\"C:\\\\Users\\\\Priyadharshni\\\\Documents\\\\SEMESTER V\\\\n2.jpg\")\n",
    "shp1 = img1.shape\n",
    "shp2 = img2.shape\n",
    "print(shp1)\n",
    "print(shp2)\n",
    "height,width = img1.shape[:2]\n",
    "height,width = img2.shape[:2]\n",
    "print(height)\n",
    "print(width)"
   ]
  },
  {
   "cell_type": "code",
   "execution_count": 67,
   "id": "379da9c5",
   "metadata": {
    "scrolled": true
   },
   "outputs": [
    {
     "data": {
      "text/plain": [
       "(600.0, 960.0)"
      ]
     },
     "execution_count": 67,
     "metadata": {},
     "output_type": "execute_result"
    }
   ],
   "source": [
    "center =(height/2,width/2)\n",
    "center"
   ]
  },
  {
   "cell_type": "code",
   "execution_count": 68,
   "id": "c1593d2b",
   "metadata": {},
   "outputs": [
    {
     "name": "stdout",
     "output_type": "stream",
     "text": [
      "[[-1.0000000e+00  1.2246468e-16  1.2000000e+03]\n",
      " [-1.2246468e-16 -1.0000000e+00  1.9200000e+03]]\n"
     ]
    }
   ],
   "source": [
    "rotate_matrix = cv2.getRotationMatrix2D(center= center,angle = 180,scale =1.0)\n",
    "\n",
    "print(rotate_matrix)"
   ]
  },
  {
   "cell_type": "code",
   "execution_count": 69,
   "id": "a4ed12f0",
   "metadata": {},
   "outputs": [],
   "source": [
    "rotate_image1 = cv2.warpAffine(src = img1 ,M = rotate_matrix,dsize = (width,height))\n",
    "rotate_image2 = cv2.warpAffine(src = img2 ,M = rotate_matrix,dsize = (width,height))\n",
    "cv2.imshow(\"orginal_image\",img1)\n",
    "cv2.imshow(\"orginal_image\",img2)\n",
    "cv2.waitKey(0)\n",
    "cv2.imshow(\"Rotated_image\",rotate_image1)\n",
    "cv2.imshow(\"Rotated_image\",rotate_image2)\n",
    "\n",
    "cv2.waitKey(0)\n",
    "cv2.destroyAllWindows()"
   ]
  },
  {
   "cell_type": "code",
   "execution_count": null,
   "id": "6735d321",
   "metadata": {},
   "outputs": [],
   "source": []
  },
  {
   "cell_type": "code",
   "execution_count": null,
   "id": "79cee374-c32f-4aa2-83fe-cabad3697226",
   "metadata": {},
   "outputs": [],
   "source": []
  },
  {
   "cell_type": "code",
   "execution_count": null,
   "id": "fa74ab34-e9b3-44dc-b7d6-083620247ddf",
   "metadata": {},
   "outputs": [],
   "source": []
  }
 ],
 "metadata": {
  "kernelspec": {
   "display_name": "Python 3 (ipykernel)",
   "language": "python",
   "name": "python3"
  },
  "language_info": {
   "codemirror_mode": {
    "name": "ipython",
    "version": 3
   },
   "file_extension": ".py",
   "mimetype": "text/x-python",
   "name": "python",
   "nbconvert_exporter": "python",
   "pygments_lexer": "ipython3",
   "version": "3.11.9"
  }
 },
 "nbformat": 4,
 "nbformat_minor": 5
}
